{
 "cells": [
  {
   "cell_type": "markdown",
   "id": "34a1d5b1-d2a1-40b8-9b0d-e0cbed70df66",
   "metadata": {},
   "source": [
    "# Data Exploration"
   ]
  },
  {
   "cell_type": "code",
   "execution_count": 2,
   "id": "c297c316-a84e-473d-953e-fe12528f0402",
   "metadata": {},
   "outputs": [],
   "source": [
    "#brew install git-lfs"
   ]
  },
  {
   "cell_type": "code",
   "execution_count": 3,
   "id": "dc8676a1-1775-49b9-a5e4-859fe3720dc9",
   "metadata": {},
   "outputs": [],
   "source": [
    "#git lfs install "
   ]
  },
  {
   "cell_type": "code",
   "execution_count": 4,
   "id": "a637c274-d754-4f28-abc9-158b37c4a12e",
   "metadata": {},
   "outputs": [],
   "source": [
    "#git lfs pull -I 'ImageData/train/IFv1-CC1M'"
   ]
  },
  {
   "cell_type": "code",
   "execution_count": 2,
   "id": "befce1da-bed7-4709-b451-0aab2a13dce7",
   "metadata": {},
   "outputs": [],
   "source": [
    "from datasets import load_dataset\n"
   ]
  },
  {
   "cell_type": "markdown",
   "id": "3b526f71-e1dc-41dc-8411-419c31ddc9d6",
   "metadata": {},
   "source": [
    "#dataset = load_dataset(\"InfImagine/FakeImageDataset/ImageData/train/IFv1-CC1M\")"
   ]
  },
  {
   "cell_type": "code",
   "execution_count": 6,
   "id": "52324183-3a4b-4e1c-8bfb-ea561d8cc657",
   "metadata": {},
   "outputs": [],
   "source": [
    "#dataset = load_dataset(\"pixparse/cc3m-wds\")"
   ]
  },
  {
   "cell_type": "markdown",
   "id": "d26ad946-0ec6-4729-b5b0-aaf4f6a21134",
   "metadata": {},
   "source": [
    "## From Hugging ace to google cloud"
   ]
  },
  {
   "cell_type": "code",
   "execution_count": 4,
   "id": "65e4e830-c1c1-4f81-becd-f47d94edf466",
   "metadata": {},
   "outputs": [],
   "source": [
    "storage_options={\"project\": \"ai-detector-416211\"}"
   ]
  },
  {
   "cell_type": "code",
   "execution_count": 5,
   "id": "b48a0841-1e28-4821-b77e-edc7c6784b66",
   "metadata": {},
   "outputs": [],
   "source": [
    "import gcsfs\n",
    "fs = gcsfs.GCSFileSystem(**storage_options)"
   ]
  },
  {
   "cell_type": "markdown",
   "id": "1549069d-5901-4d34-8afa-ae774617dec4",
   "metadata": {},
   "source": [
    "# VM USEFUL TERMINAL COMMANDS"
   ]
  },
  {
   "cell_type": "code",
   "execution_count": null,
   "id": "a3126742-3049-441b-a0d5-f739e08171d6",
   "metadata": {},
   "outputs": [],
   "source": []
  }
 ],
 "metadata": {
  "kernelspec": {
   "display_name": "Python 3 (ipykernel)",
   "language": "python",
   "name": "python3"
  },
  "language_info": {
   "codemirror_mode": {
    "name": "ipython",
    "version": 3
   },
   "file_extension": ".py",
   "mimetype": "text/x-python",
   "name": "python",
   "nbconvert_exporter": "python",
   "pygments_lexer": "ipython3",
   "version": "3.10.6"
  }
 },
 "nbformat": 4,
 "nbformat_minor": 5
}
