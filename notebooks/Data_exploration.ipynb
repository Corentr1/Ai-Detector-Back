{
 "cells": [
  {
   "cell_type": "markdown",
   "id": "34a1d5b1-d2a1-40b8-9b0d-e0cbed70df66",
   "metadata": {},
   "source": [
    "# Data Exploration"
   ]
  },
  {
   "cell_type": "code",
   "execution_count": 2,
   "id": "c297c316-a84e-473d-953e-fe12528f0402",
   "metadata": {},
   "outputs": [],
   "source": [
    "#brew install git-lfs"
   ]
  },
  {
   "cell_type": "code",
   "execution_count": 3,
   "id": "dc8676a1-1775-49b9-a5e4-859fe3720dc9",
   "metadata": {},
   "outputs": [],
   "source": [
    "#git lfs install "
   ]
  },
  {
   "cell_type": "code",
   "execution_count": 4,
   "id": "a637c274-d754-4f28-abc9-158b37c4a12e",
   "metadata": {},
   "outputs": [],
   "source": [
    "#git lfs pull -I 'MetaData/train/stylegan3-80K.csv'"
   ]
  },
  {
   "cell_type": "code",
   "execution_count": 2,
   "id": "befce1da-bed7-4709-b451-0aab2a13dce7",
   "metadata": {},
   "outputs": [],
   "source": [
    "from datasets import load_dataset\n"
   ]
  },
  {
   "cell_type": "code",
   "execution_count": 7,
   "id": "57204910-fa3d-4f33-8683-ca7941076c14",
   "metadata": {},
   "outputs": [
    {
     "name": "stderr",
     "output_type": "stream",
     "text": [
      "\n",
      "Downloading data:   5%|████▍                                                                                 | 25.2M/488M [00:27<05:37, 1.37MB/s]\u001b[A"
     ]
    }
   ],
   "source": [
    "#dataset = load_dataset(\"InfImagine/FakeImageDataset\")"
   ]
  },
  {
   "cell_type": "code",
   "execution_count": 6,
   "id": "52324183-3a4b-4e1c-8bfb-ea561d8cc657",
   "metadata": {},
   "outputs": [],
   "source": [
    "#dataset = load_dataset(\"pixparse/cc3m-wds\")"
   ]
  },
  {
   "cell_type": "code",
   "execution_count": null,
   "id": "8efbf749-844d-42bb-95e3-1217628d02d6",
   "metadata": {},
   "outputs": [],
   "source": []
  }
 ],
 "metadata": {
  "kernelspec": {
   "display_name": "Python 3 (ipykernel)",
   "language": "python",
   "name": "python3"
  },
  "language_info": {
   "codemirror_mode": {
    "name": "ipython",
    "version": 3
   },
   "file_extension": ".py",
   "mimetype": "text/x-python",
   "name": "python",
   "nbconvert_exporter": "python",
   "pygments_lexer": "ipython3",
   "version": "3.10.6"
  }
 },
 "nbformat": 4,
 "nbformat_minor": 5
}
